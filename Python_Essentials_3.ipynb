{
  "cells": [
    {
      "cell_type": "markdown",
      "id": "b7aa2c05",
      "metadata": {
        "id": "b7aa2c05"
      },
      "source": [
        "# LOOPS"
      ]
    },
    {
      "cell_type": "markdown",
      "id": "c626ed9d",
      "metadata": {
        "id": "c626ed9d"
      },
      "source": [
        "## While Loop:"
      ]
    },
    {
      "cell_type": "raw",
      "id": "f55d20ee",
      "metadata": {
        "id": "f55d20ee"
      },
      "source": [
        "In python, while loop is used to execute a block of statements repeatedly until a given a condition is satisfied.\n",
        "And when the condition becomes false, the line immediately\n",
        "after the loop in program is executed."
      ]
    },
    {
      "cell_type": "code",
      "execution_count": null,
      "id": "26d5f228",
      "metadata": {
        "id": "26d5f228"
      },
      "outputs": [],
      "source": [
        "print('hello python')\n",
        "print('hello python')\n",
        "print('hello python')"
      ]
    },
    {
      "cell_type": "code",
      "execution_count": null,
      "id": "fa5e46ae",
      "metadata": {
        "id": "fa5e46ae"
      },
      "outputs": [],
      "source": [
        "i=9  # initialization of variable\n",
        "while i >0:  # while condition\n",
        "    print('Hello python')\n",
        "    i = i-1  # decrementing i"
      ]
    },
    {
      "cell_type": "code",
      "execution_count": null,
      "id": "a40a2e03",
      "metadata": {
        "id": "a40a2e03"
      },
      "outputs": [],
      "source": [
        "i = 1\n",
        "while i < 5:\n",
        "    print('Python')\n",
        "    #i=i+1\n",
        "    i+=1"
      ]
    },
    {
      "cell_type": "code",
      "execution_count": null,
      "id": "03357265",
      "metadata": {
        "id": "03357265"
      },
      "outputs": [],
      "source": [
        "# Simple while loop\n",
        "i=1 # initialization\n",
        "while i<6: # condition\n",
        "    print('While condition is true',i)\n",
        "    i=i+1 # increment / decrement"
      ]
    },
    {
      "cell_type": "code",
      "execution_count": null,
      "id": "3ae310d7",
      "metadata": {
        "id": "3ae310d7"
      },
      "outputs": [],
      "source": [
        "i=1\n",
        "while i<6:\n",
        "    print('While condition is true',i)\n",
        "    i+=1\n",
        "print('While condition is false',i)"
      ]
    },
    {
      "cell_type": "code",
      "execution_count": null,
      "id": "1d3818fc",
      "metadata": {
        "id": "1d3818fc"
      },
      "outputs": [],
      "source": [
        "# While loop with break.\n",
        "#It is used to stop loop even if while condition is true\n",
        "i=1\n",
        "while i<6:\n",
        "    i  +=1\n",
        "    if i==3:\n",
        "        break\n",
        "    print(i)\n",
        "    #i+=1\n"
      ]
    },
    {
      "cell_type": "code",
      "execution_count": null,
      "id": "1a240bae",
      "metadata": {
        "id": "1a240bae"
      },
      "outputs": [],
      "source": [
        "# While loop with continue statement.\n",
        "# to continue loop from start/throws back cursor to starting position\n",
        "i=0\n",
        "while i<6:\n",
        "    #i+=1\n",
        "    if i==3:\n",
        "        continue\n",
        "    print(i)\n",
        "    i+=1"
      ]
    },
    {
      "cell_type": "code",
      "execution_count": null,
      "id": "379d5289",
      "metadata": {
        "id": "379d5289"
      },
      "outputs": [],
      "source": [
        "# While loop with else statement.\n",
        "i=1\n",
        "while i < 6:\n",
        "    i+=1\n",
        "    print(i)\n",
        "    #i=i+1\n",
        "else:\n",
        "    print('While loop condition is false')"
      ]
    },
    {
      "cell_type": "code",
      "execution_count": null,
      "id": "48b9149e",
      "metadata": {
        "id": "48b9149e"
      },
      "outputs": [],
      "source": [
        "count = 1\n",
        "while (count < 3):\n",
        "    count = count + 1\n",
        "    print(\"Data science\")"
      ]
    },
    {
      "cell_type": "code",
      "execution_count": null,
      "id": "8xCHhXtz5E7S",
      "metadata": {
        "id": "8xCHhXtz5E7S"
      },
      "outputs": [],
      "source": [
        "num=int(input(\"Enter a number: \"))\n",
        "i=2\n",
        "count=0\n",
        "while i<=num/2:\n",
        "    if num%i==0:\n",
        "        print(i,'is a factor of',num)\n",
        "        count=1\n",
        "        #break\n",
        "    i=i+1\n",
        "\n",
        "if count==0:\n",
        "    print(num,\"is Prime number\")\n",
        "else:\n",
        "    print(num,\"is Composite number\")"
      ]
    },
    {
      "cell_type": "markdown",
      "id": "a5a173b3",
      "metadata": {
        "id": "a5a173b3"
      },
      "source": [
        "# FOR LOOP\n"
      ]
    },
    {
      "cell_type": "raw",
      "id": "2ece8894",
      "metadata": {
        "id": "2ece8894"
      },
      "source": [
        "Python for loops are used to loop through an iterable object(like a list, tuple, set, etc.) and perform the same action for each item/element."
      ]
    },
    {
      "cell_type": "code",
      "execution_count": null,
      "id": "f2a1ad9e",
      "metadata": {
        "id": "f2a1ad9e"
      },
      "outputs": [],
      "source": [
        "fruits=['Apple','Banana','Mango','Watermelon']\n",
        "for i in fruits:\n",
        "    print(i)"
      ]
    },
    {
      "cell_type": "code",
      "execution_count": null,
      "id": "3c72273a",
      "metadata": {
        "id": "3c72273a"
      },
      "outputs": [],
      "source": [
        "l=[1,2,3,4,5,6,7,8,9,0,12,34,55]\n",
        "for c in l:\n",
        "    print(c)"
      ]
    },
    {
      "cell_type": "code",
      "execution_count": null,
      "id": "3e009e99",
      "metadata": {
        "id": "3e009e99"
      },
      "outputs": [],
      "source": [
        "# in string it will iterate character wise.\n",
        "s='data science'\n",
        "for i in s:\n",
        "    print(i)"
      ]
    },
    {
      "cell_type": "code",
      "execution_count": null,
      "id": "d744418f",
      "metadata": {
        "id": "d744418f"
      },
      "outputs": [],
      "source": [
        "range(1,10)"
      ]
    },
    {
      "cell_type": "code",
      "execution_count": null,
      "id": "8b29b31c",
      "metadata": {
        "id": "8b29b31c"
      },
      "outputs": [],
      "source": [
        "## Range function\n",
        "for i in range(1,11):\n",
        "# range is a generator function which\n",
        "#yields numbers from specified start to end point\n",
        "    print(i)"
      ]
    },
    {
      "cell_type": "code",
      "execution_count": null,
      "id": "e9ab3e5c",
      "metadata": {
        "id": "e9ab3e5c"
      },
      "outputs": [],
      "source": [
        "x = int(input('Enter the number:'))\n",
        "for i in range(1,11):\n",
        "    print(i * x)"
      ]
    },
    {
      "cell_type": "code",
      "execution_count": null,
      "id": "599af1d8",
      "metadata": {
        "id": "599af1d8"
      },
      "outputs": [],
      "source": [
        "for i in range(0,20,2):\n",
        "    # lower limit,upper limit,step\n",
        "    print(i)"
      ]
    },
    {
      "cell_type": "code",
      "execution_count": null,
      "id": "cb7c563e",
      "metadata": {
        "id": "cb7c563e"
      },
      "outputs": [],
      "source": [
        "# Task: Print 19 table\n",
        "for i in range(19,191,19):\n",
        "    print(i)"
      ]
    },
    {
      "cell_type": "code",
      "execution_count": null,
      "id": "be482593",
      "metadata": {
        "id": "be482593"
      },
      "outputs": [],
      "source": [
        "# Nested loops\n",
        "list1=['Maths','Science',]\n",
        "list2=[78,90]\n",
        "for i in list1: # Outer loop\n",
        "    for k in list2: # inner loop\n",
        "        print(i,k)"
      ]
    },
    {
      "cell_type": "code",
      "execution_count": null,
      "id": "bc997ca8",
      "metadata": {
        "id": "bc997ca8"
      },
      "outputs": [],
      "source": [
        "a=['red','blue','green']\n",
        "b=['Apple','Banana','Orange']\n",
        "for i in a: ## outer loop\n",
        "    for h in b: ## inner loop\n",
        "        print(i,h)"
      ]
    },
    {
      "cell_type": "code",
      "execution_count": null,
      "id": "c4f0865b",
      "metadata": {
        "id": "c4f0865b"
      },
      "outputs": [],
      "source": []
    },
    {
      "cell_type": "code",
      "execution_count": null,
      "id": "e1249b26",
      "metadata": {
        "id": "e1249b26"
      },
      "outputs": [],
      "source": [
        "l = [34,66,43,23,27,88,74,16]\n",
        "for c in l:\n",
        "    if(c%2==0):\n",
        "        print(c,'is even')\n",
        "    else:\n",
        "        print(c,'is odd')"
      ]
    },
    {
      "cell_type": "markdown",
      "id": "27b23a5e",
      "metadata": {
        "id": "27b23a5e"
      },
      "source": [
        "# Function"
      ]
    },
    {
      "cell_type": "raw",
      "id": "a0398f55",
      "metadata": {
        "id": "a0398f55"
      },
      "source": [
        "A function is a block of organized code written to carry out a specified task.\n",
        "\n",
        "Functions help break our program into smaller and modular chunks for better readability. Information can be passed into a function as arguments.\n",
        "\n",
        "Parameters are specified after the function name inside the parentheses.\n",
        "\n",
        "We can add as many parameters as we want. Parameters must be separated with a comma. A function may or may not return data.\n",
        "\n",
        "In Python a function is defined using the def keyword\n"
      ]
    },
    {
      "cell_type": "markdown",
      "id": "b7c9fddd",
      "metadata": {
        "id": "b7c9fddd"
      },
      "source": [
        "## Parameter VS Argument"
      ]
    },
    {
      "cell_type": "raw",
      "id": "df415297",
      "metadata": {
        "id": "df415297"
      },
      "source": [
        "A parameter is the variable listed inside the parentheses in the function definition.\n",
        "An argument is the value that is sent to the function when it is called."
      ]
    },
    {
      "cell_type": "markdown",
      "id": "d5ca03dc",
      "metadata": {
        "id": "d5ca03dc"
      },
      "source": [
        "## Three types of functions in Python:-\n",
        "\n",
        "1) Built-in function :- Python predefined functions that are readily available for use like min() , max() , sum() , print() etc.\n",
        "\n",
        "2) User-Defined Functions:- Function that we define ourselves to perform a specific task.\n",
        "\n",
        "3) Anonymous functions : Function that is defined without a name. Anonymous functions are also called as lambda functions. They are not declared with the def keyword.\n"
      ]
    },
    {
      "cell_type": "markdown",
      "id": "692c41b2",
      "metadata": {
        "id": "692c41b2"
      },
      "source": [
        "1) Python Function with no argument and no return value.\n",
        "\n",
        "2) Function with no argument and with a Return value.\n",
        "\n",
        "\n",
        "3) Python Function with argument and No Return value.\n",
        "\n",
        "4) Function with argument and return value."
      ]
    },
    {
      "cell_type": "code",
      "execution_count": null,
      "id": "a8dc11cf",
      "metadata": {
        "id": "a8dc11cf"
      },
      "outputs": [],
      "source": [
        "l=[1,2,3]"
      ]
    },
    {
      "cell_type": "code",
      "execution_count": null,
      "id": "8c82aef2",
      "metadata": {
        "id": "8c82aef2"
      },
      "outputs": [],
      "source": [
        "len(l)"
      ]
    },
    {
      "cell_type": "code",
      "execution_count": null,
      "id": "9275a626",
      "metadata": {
        "id": "9275a626"
      },
      "outputs": [],
      "source": [
        "#  Syntax Definition of function\n",
        "def name_of_function():\n",
        "    print('Hello')"
      ]
    },
    {
      "cell_type": "code",
      "execution_count": null,
      "id": "097d047d",
      "metadata": {
        "id": "097d047d"
      },
      "outputs": [],
      "source": [
        "# Syntax Calling the function\n",
        "name_of_function()"
      ]
    },
    {
      "cell_type": "code",
      "execution_count": null,
      "id": "61384a05",
      "metadata": {
        "id": "61384a05"
      },
      "outputs": [],
      "source": [
        "## create a function with name as your name\n",
        "##and which print your name"
      ]
    },
    {
      "cell_type": "code",
      "execution_count": null,
      "id": "6bcf8445",
      "metadata": {
        "id": "6bcf8445"
      },
      "outputs": [],
      "source": [
        "##Python Function with no argument and no return value\n",
        "\n",
        "def noargument():\n",
        "    print()\n"
      ]
    },
    {
      "cell_type": "code",
      "execution_count": null,
      "id": "c5fc7ca1",
      "metadata": {
        "id": "c5fc7ca1"
      },
      "outputs": [],
      "source": [
        "noargument()"
      ]
    },
    {
      "cell_type": "code",
      "execution_count": null,
      "id": "5c10ef4e",
      "metadata": {
        "id": "5c10ef4e"
      },
      "outputs": [],
      "source": [
        "## Function with no argument and with a Return value\n",
        "def argu():\n",
        "    print('This is no argument but return value function')"
      ]
    },
    {
      "cell_type": "code",
      "execution_count": null,
      "id": "92185096",
      "metadata": {
        "id": "92185096"
      },
      "outputs": [],
      "source": [
        "argu()"
      ]
    },
    {
      "cell_type": "code",
      "execution_count": null,
      "id": "0fa1ca02",
      "metadata": {
        "id": "0fa1ca02"
      },
      "outputs": [],
      "source": [
        "##Python Function with argument and No Return value\n",
        "\n",
        "def noreturn(a): ## a is parameter or input to the function\n",
        "    print()"
      ]
    },
    {
      "cell_type": "code",
      "execution_count": null,
      "id": "5c440c57",
      "metadata": {
        "id": "5c440c57"
      },
      "outputs": [],
      "source": [
        "noreturn(6)"
      ]
    },
    {
      "cell_type": "code",
      "execution_count": null,
      "id": "25a5dfcf",
      "metadata": {
        "id": "25a5dfcf"
      },
      "outputs": [],
      "source": [
        "# function with argument and return value\n",
        "def area_of_circle(r):\n",
        "    area=3.14*r*r\n",
        "    print(area)"
      ]
    },
    {
      "cell_type": "code",
      "execution_count": null,
      "id": "991898c5",
      "metadata": {
        "id": "991898c5"
      },
      "outputs": [],
      "source": [
        "area_of_circle(5)"
      ]
    },
    {
      "cell_type": "code",
      "execution_count": null,
      "id": "1692d537",
      "metadata": {
        "id": "1692d537"
      },
      "outputs": [],
      "source": [
        "def perimeter_of_square(side):\n",
        "    peri=4*side\n",
        "    print(peri)"
      ]
    },
    {
      "cell_type": "code",
      "execution_count": null,
      "id": "155e3494",
      "metadata": {
        "id": "155e3494"
      },
      "outputs": [],
      "source": [
        "perimeter_of_square(5)"
      ]
    },
    {
      "cell_type": "code",
      "execution_count": null,
      "id": "25378a29",
      "metadata": {
        "id": "25378a29"
      },
      "outputs": [],
      "source": [
        "def rectangle(l,b):\n",
        "    area=l*b\n",
        "    return area"
      ]
    },
    {
      "cell_type": "code",
      "execution_count": null,
      "id": "ccea62a7",
      "metadata": {
        "id": "ccea62a7"
      },
      "outputs": [],
      "source": [
        "rectangle(1,2)"
      ]
    },
    {
      "cell_type": "code",
      "execution_count": null,
      "id": "f0561ecf",
      "metadata": {
        "id": "f0561ecf"
      },
      "outputs": [],
      "source": [
        "def  details(name,userid,country):\n",
        "    #  Function  to  print  User  details\n",
        "    print('Name :- ', name)\n",
        "    print('User ID is :- ', userid)\n",
        "    print('Country  :-  ',country)"
      ]
    },
    {
      "cell_type": "code",
      "execution_count": null,
      "id": "d151795a",
      "metadata": {
        "id": "d151795a"
      },
      "outputs": [],
      "source": [
        "details('Data', 'Data123' , 'India')"
      ]
    },
    {
      "cell_type": "code",
      "execution_count": null,
      "id": "b5224979",
      "metadata": {
        "id": "b5224979"
      },
      "outputs": [],
      "source": [
        "Task:-Write function to get a number from users and check\n",
        "whether given number is odd or even"
      ]
    },
    {
      "cell_type": "code",
      "execution_count": null,
      "id": "3c17778f",
      "metadata": {
        "id": "3c17778f"
      },
      "outputs": [],
      "source": [
        "def evenorodd():\n",
        "    a=int(input('Enter your number'))\n",
        "    if a%2==0:\n",
        "        print('The number is even')\n",
        "    else:\n",
        "        print('The number is odd')"
      ]
    },
    {
      "cell_type": "code",
      "execution_count": null,
      "id": "60c941ee",
      "metadata": {
        "id": "60c941ee"
      },
      "outputs": [],
      "source": [
        "evenorodd()"
      ]
    },
    {
      "cell_type": "code",
      "execution_count": null,
      "id": "8efe1d9b",
      "metadata": {
        "id": "8efe1d9b"
      },
      "outputs": [],
      "source": [
        "def prime():\n",
        "    '''Prime Number: This function checks whether the given number is prime\n",
        "    or composite'''\n",
        "    num=int(input(\"Enter a number: \"))\n",
        "    i=2\n",
        "    count=0\n",
        "    while i<=num/2:\n",
        "        if num%i==0:\n",
        "            print(i,'is a factor of',num)\n",
        "            count=1\n",
        "            break\n",
        "        i=i+1\n",
        "\n",
        "    if count==0:\n",
        "        print(num,\"is Prime number\")\n",
        "    else:\n",
        "        print(num,\"is Composite number\")"
      ]
    },
    {
      "cell_type": "code",
      "execution_count": null,
      "id": "bc7533fb",
      "metadata": {
        "id": "bc7533fb"
      },
      "outputs": [],
      "source": [
        "prime()"
      ]
    },
    {
      "cell_type": "markdown",
      "id": "7c6930aa",
      "metadata": {
        "id": "7c6930aa"
      },
      "source": [
        "### Docstrings:\n",
        "1)\tDocstrings provide a convenient way of associating documentation with functions,\n",
        "classes, methods or modules.\n",
        "\n",
        "2)\tThey appear right after the definition of a function, method, class, or module.\n"
      ]
    },
    {
      "cell_type": "code",
      "execution_count": null,
      "id": "186a3c97",
      "metadata": {
        "id": "186a3c97"
      },
      "outputs": [],
      "source": [
        "## Function with argument and return value\n",
        "def squareofnum(a):\n",
        "    '''Square Function :- This function will return the square of a number'''\n",
        "    return a**2"
      ]
    },
    {
      "cell_type": "code",
      "execution_count": null,
      "id": "a4e55d11",
      "metadata": {
        "id": "a4e55d11"
      },
      "outputs": [],
      "source": [
        "squareofnum(10)"
      ]
    },
    {
      "cell_type": "code",
      "execution_count": null,
      "id": "0e1642a3",
      "metadata": {
        "id": "0e1642a3"
      },
      "outputs": [],
      "source": [
        "q=squareofnum(10)"
      ]
    },
    {
      "cell_type": "code",
      "execution_count": null,
      "id": "4611cea0",
      "metadata": {
        "id": "4611cea0"
      },
      "outputs": [],
      "source": [
        "print(q)"
      ]
    },
    {
      "cell_type": "code",
      "execution_count": null,
      "id": "4f4e3d11",
      "metadata": {
        "id": "4f4e3d11"
      },
      "outputs": [],
      "source": [
        "print(squareofnum.__doc__)"
      ]
    },
    {
      "cell_type": "code",
      "execution_count": null,
      "id": "00a1985e",
      "metadata": {
        "id": "00a1985e"
      },
      "outputs": [],
      "source": [
        "help(squareofnum)"
      ]
    },
    {
      "cell_type": "markdown",
      "id": "1e2b84f0",
      "metadata": {
        "id": "1e2b84f0"
      },
      "source": [
        "## Lambda\n",
        "\n",
        " 1) A lambda function is an anonymous function (function without a name).\n",
        "\n",
        " 2) Lambda functions can have any number of arguments but only one expression.\n",
        " The expression is evaluated and returned.\n",
        "\n",
        " 3) We use lambda functions when we require a nameless function for a short period of time.\n"
      ]
    },
    {
      "cell_type": "markdown",
      "id": "393fd071",
      "metadata": {
        "id": "393fd071"
      },
      "source": [
        "![image.png](attachment:image.png)"
      ]
    },
    {
      "cell_type": "code",
      "execution_count": null,
      "id": "c5b1a578",
      "metadata": {
        "id": "c5b1a578"
      },
      "outputs": [],
      "source": [
        "addition = lambda  a : a  + 10\n",
        "# This lambda function adds value 10 to an argument"
      ]
    },
    {
      "cell_type": "code",
      "execution_count": null,
      "id": "270aa315",
      "metadata": {
        "id": "270aa315"
      },
      "outputs": [],
      "source": [
        "print(addition(6))"
      ]
    },
    {
      "cell_type": "code",
      "execution_count": null,
      "id": "4c661fb0",
      "metadata": {
        "id": "4c661fb0"
      },
      "outputs": [],
      "source": [
        "product  =  lambda  a,  b  :  a  *  b\n",
        "#This  lambda  function  takes  two  arguments  (a,b)\n",
        "#and do the multiplication\n",
        "print(product(5,  6))\n"
      ]
    },
    {
      "cell_type": "code",
      "execution_count": null,
      "id": "353d5616",
      "metadata": {
        "id": "353d5616"
      },
      "outputs": [],
      "source": [
        "a = int(input('enter the number'))\n",
        "b = int(input('enter the number'))\n",
        "add = lambda a,b : a+b\n",
        "print(add(a,b))"
      ]
    },
    {
      "cell_type": "markdown",
      "id": "b49795bf",
      "metadata": {
        "id": "b49795bf"
      },
      "source": [
        "## Filter Function\n",
        "\n"
      ]
    },
    {
      "cell_type": "raw",
      "id": "6e9d5c6f",
      "metadata": {
        "id": "6e9d5c6f"
      },
      "source": [
        "The filter() method filters the given sequence with the help of a function that tests each element in the sequence to be true or not."
      ]
    },
    {
      "cell_type": "code",
      "execution_count": null,
      "id": "08c7354c",
      "metadata": {
        "id": "08c7354c"
      },
      "outputs": [],
      "source": [
        "# a list contains both even and odd numbers.\n",
        "seq = [0, 1, 2, 3, 5, 8, 13]\n",
        "\n",
        "# result contains odd numbers of the list\n",
        "result = filter(lambda x: x % 2 != 0, seq)\n",
        "#print(result)\n",
        "print(list(result))\n",
        "\n",
        "# result contains even numbers of the list\n",
        "result = filter(lambda x: x % 2 == 0, seq)\n",
        "print(list(result))"
      ]
    },
    {
      "cell_type": "markdown",
      "id": "4eb23853",
      "metadata": {
        "id": "4eb23853"
      },
      "source": [
        "## Map Function"
      ]
    },
    {
      "cell_type": "raw",
      "id": "3c233d8d",
      "metadata": {
        "id": "3c233d8d"
      },
      "source": [
        "map() function returns a map object(which is an iterator) of the results\n",
        "after applying the given function to each item of a given\n",
        "iterable (list, tuple etc.)\n",
        "\n"
      ]
    },
    {
      "cell_type": "code",
      "execution_count": null,
      "id": "6f118feb",
      "metadata": {
        "id": "6f118feb"
      },
      "outputs": [],
      "source": [
        "# Return double of n\n",
        "def addition(n):\n",
        "    return n * n\n",
        "\n",
        "# We double all numbers using map()\n",
        "numbers = (1, 2, 3, 4)\n",
        "result = map(addition, numbers)\n",
        "print(list(result))"
      ]
    },
    {
      "cell_type": "code",
      "execution_count": null,
      "id": "9b787705",
      "metadata": {
        "collapsed": true,
        "id": "9b787705",
        "outputId": "6af3a584-a291-4c3f-8b8c-852253a36130"
      },
      "outputs": [
        {
          "name": "stdout",
          "output_type": "stream",
          "text": [
            "[2, 4, 6, 8]\n"
          ]
        }
      ],
      "source": [
        "# Double all numbers using map and lambda\n",
        "numbers = (1, 2, 3, 4)\n",
        "result = map(lambda x: x + x, numbers)\n",
        "print(list(result))"
      ]
    },
    {
      "cell_type": "code",
      "execution_count": null,
      "id": "bd187431",
      "metadata": {
        "collapsed": true,
        "id": "bd187431",
        "outputId": "e0e291d1-09fd-4733-a33e-e6350c426e89"
      },
      "outputs": [
        {
          "name": "stdout",
          "output_type": "stream",
          "text": [
            "[5, 7, 9]\n"
          ]
        }
      ],
      "source": [
        "# Add two lists using map and lambda\n",
        "\n",
        "numbers1 = [1, 2, 3]\n",
        "numbers2 = [4, 5, 6]\n",
        "\n",
        "result = map(lambda x, y: x + y, numbers1, numbers2)\n",
        "print(list(result))"
      ]
    },
    {
      "cell_type": "code",
      "execution_count": null,
      "id": "92d8a52a",
      "metadata": {
        "collapsed": true,
        "id": "92d8a52a",
        "outputId": "cb0dc86b-654c-439b-c379-a40bd7c0b8d1"
      },
      "outputs": [
        {
          "name": "stdout",
          "output_type": "stream",
          "text": [
            "[['s', 'a', 't'], ['b', 'a', 't'], ['c', 'a', 't'], ['m', 'a', 't']]\n"
          ]
        }
      ],
      "source": [
        "# List of strings\n",
        "l = ['sat', 'bat', 'cat', 'mat']\n",
        "# map() can listify the list of strings individually\n",
        "test = list(map(list, l))\n",
        "print(test)"
      ]
    },
    {
      "cell_type": "markdown",
      "id": "74baea00",
      "metadata": {
        "id": "74baea00"
      },
      "source": [
        "## Reduce Function"
      ]
    },
    {
      "cell_type": "raw",
      "id": "c01df593",
      "metadata": {
        "id": "c01df593"
      },
      "source": [
        "The reduce(fun,seq) function is used to apply a particular function passed in its argument to all of the list elements mentioned in the sequence passed along.This function is defined in “functools” module."
      ]
    },
    {
      "cell_type": "code",
      "execution_count": null,
      "id": "467efe2d",
      "metadata": {
        "id": "467efe2d",
        "outputId": "3f8a2eb2-7fc2-47a9-d45e-d8d0b43a5b50"
      },
      "outputs": [
        {
          "name": "stdout",
          "output_type": "stream",
          "text": [
            "The sum of the list elements is : 17\n"
          ]
        }
      ],
      "source": [
        "# importing functools for reduce()\n",
        "import functools\n",
        "\n",
        "# initializing list\n",
        "lis = [1, 3, 5, 6, 2]\n",
        "\n",
        "# using reduce to compute sum of list\n",
        "print(\"The sum of the list elements is : \", end=\"\")\n",
        "print(functools.reduce(lambda a, b: a+b, lis))"
      ]
    },
    {
      "cell_type": "code",
      "execution_count": null,
      "id": "af273d1f",
      "metadata": {
        "collapsed": true,
        "id": "af273d1f",
        "outputId": "c5aec0ea-34d3-410b-d939-c8f982236aec"
      },
      "outputs": [
        {
          "name": "stdout",
          "output_type": "stream",
          "text": [
            "The maximum element of the list is : 6\n"
          ]
        }
      ],
      "source": [
        "# using reduce to compute maximum element from list\n",
        "print(\"The maximum element of the list is : \", end=\"\")\n",
        "print(functools.reduce(lambda a, b: a if a > b else b, lis))"
      ]
    },
    {
      "cell_type": "markdown",
      "id": "f1313a5f",
      "metadata": {
        "id": "f1313a5f"
      },
      "source": [
        "## ListComprehension"
      ]
    },
    {
      "cell_type": "markdown",
      "id": "f663d74b",
      "metadata": {
        "id": "f663d74b"
      },
      "source": [
        "List comprehension offers a shorter syntax when you want to create a new list\n",
        "based on the values of an existing list.\n",
        "\n",
        "newlist = [expression for item in iterable if condition == True]  "
      ]
    },
    {
      "cell_type": "code",
      "execution_count": null,
      "id": "72cd25ad",
      "metadata": {
        "id": "72cd25ad",
        "outputId": "1db85615-22e4-46c8-f562-640c575b34f3"
      },
      "outputs": [
        {
          "name": "stdout",
          "output_type": "stream",
          "text": [
            "[9, 25, 1, 49, 9, 81]\n"
          ]
        }
      ],
      "source": [
        "#using for loop to iterate through items in list\n",
        "numbers = [3, 5, 1, 7, 3, 9]\n",
        "num = []\n",
        "\n",
        "for n in numbers:\n",
        "    num.append(n**2)\n",
        "\n",
        "print(num)"
      ]
    },
    {
      "cell_type": "code",
      "execution_count": null,
      "id": "fdea364c",
      "metadata": {
        "id": "fdea364c",
        "outputId": "dfbd6e88-5ac5-4c4a-b8d2-0bcc07a32dae"
      },
      "outputs": [
        {
          "name": "stdout",
          "output_type": "stream",
          "text": [
            "[9, 25, 1, 49, 9, 81]\n"
          ]
        }
      ],
      "source": [
        "#using list comprehension to iterate through list items\n",
        "numbers = [3, 5, 1, 7, 3, 9]\n",
        "\n",
        "num = [n**2 for n in numbers]\n",
        "\n",
        "print(num)"
      ]
    },
    {
      "cell_type": "code",
      "execution_count": null,
      "id": "1ac07919",
      "metadata": {
        "collapsed": true,
        "id": "1ac07919",
        "outputId": "b3553317-74b2-4383-bf0f-b4cba30f272d"
      },
      "outputs": [
        {
          "name": "stdout",
          "output_type": "stream",
          "text": [
            "D\n",
            "A\n",
            "T\n",
            "A\n",
            "S\n",
            "C\n",
            "I\n",
            "E\n",
            "N\n",
            "E\n"
          ]
        }
      ],
      "source": [
        "a = 'DATASCIENE'\n",
        "for i in a:\n",
        "    print(i)"
      ]
    },
    {
      "cell_type": "code",
      "execution_count": null,
      "id": "92781d19",
      "metadata": {
        "id": "92781d19",
        "outputId": "682d45d3-6ea1-48be-d320-c8034a329467"
      },
      "outputs": [
        {
          "name": "stdout",
          "output_type": "stream",
          "text": [
            "['D', 'a', 't', 'a', 'S', 'c', 'i', 'e', 'n', 'c', 'e']\n"
          ]
        }
      ],
      "source": [
        "## using list comprehension to iterate through str object\n",
        "letters = [ alpha for alpha in 'DataScience' ]\n",
        "print( letters)"
      ]
    },
    {
      "cell_type": "code",
      "execution_count": null,
      "id": "56ca8a8d",
      "metadata": {
        "id": "56ca8a8d",
        "outputId": "a25a127a-9695-4218-ea0a-3e45dbed3e60"
      },
      "outputs": [
        {
          "name": "stdout",
          "output_type": "stream",
          "text": [
            "[1, 3, 5, 7, 9, 11, 13, 15, 17, 19, 21, 23, 25, 27, 29]\n"
          ]
        }
      ],
      "source": [
        "## Using Conditions in List Comprehension\n",
        "number_list = [ num for num in range(30) if num % 2 != 0]\n",
        "print(number_list)"
      ]
    },
    {
      "cell_type": "code",
      "execution_count": null,
      "id": "af27ed63",
      "metadata": {
        "id": "af27ed63"
      },
      "outputs": [],
      "source": [
        "## More on comprehension\n",
        "fruits = [\"apple\", \"banana\", \"cherry\", \"kiwi\", \"mango\"]"
      ]
    },
    {
      "cell_type": "code",
      "execution_count": null,
      "id": "b3b33f90",
      "metadata": {
        "id": "b3b33f90",
        "outputId": "67b70f99-9e83-460c-b2c2-194e1f70a978"
      },
      "outputs": [
        {
          "data": {
            "text/plain": [
              "['APPLE', 'BANANA', 'CHERRY', 'KIWI', 'MANGO']"
            ]
          },
          "execution_count": 16,
          "metadata": {},
          "output_type": "execute_result"
        }
      ],
      "source": [
        "newlist = [x.upper() for x in fruits]\n",
        "newlist"
      ]
    },
    {
      "cell_type": "code",
      "execution_count": null,
      "id": "2d9a921d",
      "metadata": {
        "id": "2d9a921d"
      },
      "outputs": [],
      "source": []
    }
  ],
  "metadata": {
    "colab": {
      "provenance": []
    },
    "kernelspec": {
      "display_name": "Python 3 (ipykernel)",
      "language": "python",
      "name": "python3"
    },
    "language_info": {
      "codemirror_mode": {
        "name": "ipython",
        "version": 3
      },
      "file_extension": ".py",
      "mimetype": "text/x-python",
      "name": "python",
      "nbconvert_exporter": "python",
      "pygments_lexer": "ipython3",
      "version": "3.11.5"
    }
  },
  "nbformat": 4,
  "nbformat_minor": 5
}