{
  "cells": [
    {
      "cell_type": "markdown",
      "metadata": {
        "id": "view-in-github",
        "colab_type": "text"
      },
      "source": [
        "<a href=\"https://colab.research.google.com/github/priteshkakani/DataSciencePractice/blob/main/NumPy_Arrays_and_Operations_1.ipynb\" target=\"_parent\"><img src=\"https://colab.research.google.com/assets/colab-badge.svg\" alt=\"Open In Colab\"/></a>"
      ]
    },
    {
      "cell_type": "markdown",
      "metadata": {
        "id": "F9WV06phx9CZ"
      },
      "source": [
        "# NumPy\n",
        "NumPy is a Linear Algebra Library in Python and it is the holy grail and the main building block of Data Science using Python. Almost all the libraries in the PyData Ecosystem rely on NumPy as one of their main building blocks.\n",
        "\n",
        "It is bound to several C libraries which makes NumPy one of the fastest libraries in Python.\n",
        "\n",
        "We will learn the basics of NumPy, to get started we need to install it!"
      ]
    },
    {
      "cell_type": "markdown",
      "metadata": {
        "id": "b6964KHMx9Cc"
      },
      "source": [
        "## Installation Instructions\n",
        "\n",
        "**It is highly recommended you install Python using the Anaconda distribution to make sure all underlying dependencies (such as Linear Algebra libraries) all sync up with the use of a conda install. If you don't have Anaconda, install NumPy by going to your terminal or command prompt and type:**\n",
        "    \n",
        "    !pip install numpy\n",
        "    conda install numpy\n",
        "    \n"
      ]
    },
    {
      "cell_type": "code",
      "execution_count": null,
      "metadata": {
        "id": "yp10Ttfzg7zH"
      },
      "outputs": [],
      "source": [
        "!pip install numpy"
      ]
    },
    {
      "cell_type": "markdown",
      "metadata": {
        "id": "PWYZNm8Kx9Ce"
      },
      "source": [
        "## Using NumPy\n",
        "\n",
        "Once you've installed NumPy you can import it as a library:"
      ]
    },
    {
      "cell_type": "code",
      "execution_count": null,
      "metadata": {
        "id": "jgYIrfvWx9Cf"
      },
      "outputs": [],
      "source": [
        "import numpy as np"
      ]
    },
    {
      "cell_type": "markdown",
      "metadata": {
        "id": "_jtfQ1Rax9Cg"
      },
      "source": [
        "Numpy has many built-in functions and capabilities. We won't cover them all but instead we will focus on some of the most important aspects of Numpy: vectors,arrays,matrices, and number generation.\n",
        "\n",
        "# Numpy Arrays\n",
        "\n",
        "Numpy Arrays are commonly used data structure in python that store data as a grid or matrix and easy to access.\n",
        "\n",
        "Numpy arrays essentially of two types: vectors and matrices. Vectors are strictly 1-D arrays and matrices are 2-D (Note: A matrix can still have only one row or one column).\n",
        "\n",
        "The following cells explain on creation of NumPy arrays.\n",
        "\n",
        "## Creating NumPy Arrays\n",
        "\n",
        "### From a Python List\n",
        "\n",
        "An array can be created by directly converting a list or list of lists:"
      ]
    },
    {
      "cell_type": "code",
      "execution_count": null,
      "metadata": {
        "id": "vewGpIuQJxAc"
      },
      "outputs": [],
      "source": [
        "import numpy as np"
      ]
    },
    {
      "cell_type": "code",
      "execution_count": null,
      "metadata": {
        "colab": {
          "base_uri": "https://localhost:8080/"
        },
        "id": "iiUHHhjkJxAg",
        "outputId": "a867eda1-e76c-4b80-c81b-f5a7a5b94235"
      },
      "outputs": [
        {
          "data": {
            "text/plain": [
              "array([], dtype=float64)"
            ]
          },
          "execution_count": 5,
          "metadata": {},
          "output_type": "execute_result"
        }
      ],
      "source": [
        "arr1 = np.array([])   # create an empty array\n",
        "arr1"
      ]
    },
    {
      "cell_type": "code",
      "execution_count": null,
      "metadata": {
        "colab": {
          "base_uri": "https://localhost:8080/"
        },
        "id": "G0pGNKZ7cvQa",
        "outputId": "dd5470b2-95f1-4027-a263-eeeac8410e93"
      },
      "outputs": [
        {
          "data": {
            "text/plain": [
              "[]"
            ]
          },
          "execution_count": 6,
          "metadata": {},
          "output_type": "execute_result"
        }
      ],
      "source": [
        "l1=[]\n",
        "l1"
      ]
    },
    {
      "cell_type": "code",
      "execution_count": null,
      "metadata": {
        "colab": {
          "base_uri": "https://localhost:8080/"
        },
        "id": "Vvb1Lullx9Ch",
        "outputId": "2991ab27-e9d9-4ff0-ec6a-6d18ee300b30"
      },
      "outputs": [
        {
          "name": "stdout",
          "output_type": "stream",
          "text": [
            "[1, 2, 3, 4, 5]\n",
            "<class 'list'>\n"
          ]
        }
      ],
      "source": [
        "my_list = [1,2,3,4,5]\n",
        "print(my_list)\n",
        "print(type(my_list))"
      ]
    },
    {
      "cell_type": "code",
      "execution_count": null,
      "metadata": {
        "id": "FJ7VRQSsx9Cj"
      },
      "outputs": [],
      "source": [
        "a=np.array(my_list)"
      ]
    },
    {
      "cell_type": "code",
      "execution_count": null,
      "metadata": {
        "colab": {
          "base_uri": "https://localhost:8080/"
        },
        "id": "FZKV4vtOg7zM",
        "outputId": "1fd9d7c8-5c0b-40f6-c513-b856b6d56d60"
      },
      "outputs": [
        {
          "data": {
            "text/plain": [
              "array([1, 2, 3, 4, 5])"
            ]
          },
          "execution_count": 9,
          "metadata": {},
          "output_type": "execute_result"
        }
      ],
      "source": [
        "a"
      ]
    },
    {
      "cell_type": "code",
      "execution_count": null,
      "metadata": {
        "colab": {
          "base_uri": "https://localhost:8080/"
        },
        "id": "yUEbLsdiJxAu",
        "outputId": "f7742aed-f8a8-48a3-c229-5015b82809bc"
      },
      "outputs": [
        {
          "data": {
            "text/plain": [
              "numpy.ndarray"
            ]
          },
          "execution_count": 10,
          "metadata": {},
          "output_type": "execute_result"
        }
      ],
      "source": [
        "type(a)   # ndarray is number dimension array"
      ]
    },
    {
      "cell_type": "code",
      "execution_count": null,
      "metadata": {
        "colab": {
          "base_uri": "https://localhost:8080/"
        },
        "id": "Ky3iGYQWJxAu",
        "outputId": "c41f9a75-e3b9-41b4-a375-225729a081cb"
      },
      "outputs": [
        {
          "data": {
            "text/plain": [
              "1"
            ]
          },
          "execution_count": 11,
          "metadata": {},
          "output_type": "execute_result"
        }
      ],
      "source": [
        "a.ndim  # number of dimensions in the array"
      ]
    },
    {
      "cell_type": "code",
      "execution_count": null,
      "metadata": {
        "colab": {
          "base_uri": "https://localhost:8080/"
        },
        "id": "w1viSdXSJxAv",
        "outputId": "efb2b7a6-c7bf-46b1-a6b3-c077ac2a7f0b"
      },
      "outputs": [
        {
          "data": {
            "text/plain": [
              "5"
            ]
          },
          "execution_count": 12,
          "metadata": {},
          "output_type": "execute_result"
        }
      ],
      "source": [
        "a.size  # size of an array is the no. of items"
      ]
    },
    {
      "cell_type": "code",
      "execution_count": null,
      "metadata": {
        "colab": {
          "base_uri": "https://localhost:8080/"
        },
        "id": "d4fH0ivxJxAw",
        "outputId": "0f27e9e0-418f-4eef-8129-4f7c5ecd6d2c"
      },
      "outputs": [
        {
          "data": {
            "text/plain": [
              "(5,)"
            ]
          },
          "execution_count": 13,
          "metadata": {},
          "output_type": "execute_result"
        }
      ],
      "source": [
        "a.shape # shape of array"
      ]
    },
    {
      "cell_type": "code",
      "execution_count": null,
      "metadata": {
        "id": "rCnkWFpvXVuq",
        "outputId": "97c422e4-9bdc-41b8-97b2-f464098a059e"
      },
      "outputs": [
        {
          "data": {
            "text/plain": [
              "[11, 2, 3, 1, 5, 67]"
            ]
          },
          "execution_count": 14,
          "metadata": {},
          "output_type": "execute_result"
        }
      ],
      "source": [
        "li = [11,2,3,1,5,67]\n",
        "li"
      ]
    },
    {
      "cell_type": "code",
      "execution_count": null,
      "metadata": {
        "id": "w3QmgN4OXVur",
        "outputId": "51595a3f-b7de-4a2e-d5c1-38aac969e4ac"
      },
      "outputs": [
        {
          "name": "stdout",
          "output_type": "stream",
          "text": [
            "[11  2  3  1  5 67]\n"
          ]
        }
      ],
      "source": [
        "array1 = np.array(li)\n",
        "print(array1)"
      ]
    },
    {
      "cell_type": "markdown",
      "metadata": {
        "id": "_oLf8UiWJxAw"
      },
      "source": [
        "#### Arrays can be of n dimensions."
      ]
    },
    {
      "cell_type": "markdown",
      "metadata": {
        "id": "kbkksA5-XVur"
      },
      "source": [
        "A matrix is a two-dimensional data structure where numbers are arranged into rows and columns."
      ]
    },
    {
      "cell_type": "code",
      "execution_count": null,
      "metadata": {
        "colab": {
          "base_uri": "https://localhost:8080/"
        },
        "id": "2mkVSsT8x9Cn",
        "outputId": "df7f9156-dd43-4c91-a1b3-3182a360b588"
      },
      "outputs": [
        {
          "data": {
            "text/plain": [
              "[[1, 2, 3, 4], [5, 6, 7, 8], [9, 10, 11, 12]]"
            ]
          },
          "execution_count": 27,
          "metadata": {},
          "output_type": "execute_result"
        }
      ],
      "source": [
        "my_matrix = [[1,2,3,4],[5,6,7,8],[9,10,11,12]] # list of lists\n",
        "my_matrix"
      ]
    },
    {
      "cell_type": "code",
      "execution_count": null,
      "metadata": {
        "colab": {
          "base_uri": "https://localhost:8080/"
        },
        "id": "BKYc1amPx9Cp",
        "outputId": "3ff37b4d-ff0b-4236-dec9-612e2333a2ad"
      },
      "outputs": [
        {
          "data": {
            "text/plain": [
              "array([[[ 1,  2,  3,  4],\n",
              "        [ 5,  6,  7,  8],\n",
              "        [ 9, 10, 11, 12]]])"
            ]
          },
          "execution_count": 21,
          "metadata": {},
          "output_type": "execute_result"
        }
      ],
      "source": [
        "b=np.array(my_matrix) # generates a 2-d array\n",
        "b"
      ]
    },
    {
      "cell_type": "code",
      "execution_count": null,
      "metadata": {
        "colab": {
          "base_uri": "https://localhost:8080/"
        },
        "id": "yIlSprCJg7zO",
        "outputId": "fd5c36ea-c8f0-4526-83d5-65a074419f8c"
      },
      "outputs": [
        {
          "name": "stdout",
          "output_type": "stream",
          "text": [
            "The Dimension of array 3\n"
          ]
        }
      ],
      "source": [
        "# Array summary\n",
        "print('The Dimension of array',b.ndim) # dimensions of given array"
      ]
    },
    {
      "cell_type": "code",
      "execution_count": null,
      "metadata": {
        "colab": {
          "base_uri": "https://localhost:8080/"
        },
        "id": "WGip-VPGg7zO",
        "outputId": "a51ff511-89c0-47be-a48b-7dafc5ea0dd6"
      },
      "outputs": [
        {
          "name": "stdout",
          "output_type": "stream",
          "text": [
            "The size of array: 12\n"
          ]
        }
      ],
      "source": [
        "print('The size of array:',b.size) # Number of elements in array"
      ]
    },
    {
      "cell_type": "code",
      "execution_count": null,
      "metadata": {
        "colab": {
          "base_uri": "https://localhost:8080/"
        },
        "id": "4h_1Gowlg7zO",
        "outputId": "ec68572c-0f96-48e2-c3d8-7f9794f66587"
      },
      "outputs": [
        {
          "name": "stdout",
          "output_type": "stream",
          "text": [
            "The datatype of element: int32\n"
          ]
        }
      ],
      "source": [
        "print('The datatype of element:',b.dtype) # Datatype of elements in array"
      ]
    },
    {
      "cell_type": "code",
      "execution_count": null,
      "metadata": {
        "colab": {
          "base_uri": "https://localhost:8080/"
        },
        "id": "1T3XoUerg7zP",
        "outputId": "d65765ff-0107-4580-d82d-03546d00fcca",
        "scrolled": true
      },
      "outputs": [
        {
          "name": "stdout",
          "output_type": "stream",
          "text": [
            "The type of structure: <class 'numpy.ndarray'>\n"
          ]
        }
      ],
      "source": [
        "print('The type of structure:',type(b))"
      ]
    },
    {
      "cell_type": "code",
      "execution_count": null,
      "metadata": {
        "colab": {
          "base_uri": "https://localhost:8080/"
        },
        "id": "FNeAjaTcg7zP",
        "outputId": "3e86f500-970b-4c0f-df9c-7be19f22dd91",
        "scrolled": false
      },
      "outputs": [
        {
          "name": "stdout",
          "output_type": "stream",
          "text": [
            "The shape: (1, 3, 4)\n"
          ]
        }
      ],
      "source": [
        "print('The shape:',b.shape)"
      ]
    },
    {
      "cell_type": "code",
      "execution_count": null,
      "metadata": {
        "colab": {
          "base_uri": "https://localhost:8080/"
        },
        "id": "eB7QsXg1JxA2",
        "outputId": "a3669db9-9eb9-4bf8-cce7-6aadc2e54b9b"
      },
      "outputs": [
        {
          "data": {
            "text/plain": [
              "array([[[ 1,  2,  3],\n",
              "        [ 4,  5,  6]],\n",
              "\n",
              "       [[ 7,  8,  9],\n",
              "        [10, 11, 12]]])"
            ]
          },
          "execution_count": 35,
          "metadata": {},
          "output_type": "execute_result"
        }
      ],
      "source": [
        "arr1= np.array([[[1,2,3],[4,5,6]], [[7,8,9],[10,11,12]]])\n",
        "arr1"
      ]
    },
    {
      "cell_type": "code",
      "execution_count": null,
      "metadata": {
        "colab": {
          "base_uri": "https://localhost:8080/"
        },
        "id": "ukqj44-kJxA3",
        "outputId": "bbb69f5f-334a-4e76-c5ac-2ade74fa0ae7"
      },
      "outputs": [
        {
          "data": {
            "text/plain": [
              "(2, 2, 3)"
            ]
          },
          "execution_count": 36,
          "metadata": {},
          "output_type": "execute_result"
        }
      ],
      "source": [
        "arr1.shape"
      ]
    },
    {
      "cell_type": "code",
      "execution_count": null,
      "metadata": {
        "id": "VOtj0mzdXVus",
        "outputId": "fdad6172-656a-4478-9150-31bd2507ca7f"
      },
      "outputs": [
        {
          "data": {
            "text/plain": [
              "3"
            ]
          },
          "execution_count": 37,
          "metadata": {},
          "output_type": "execute_result"
        }
      ],
      "source": [
        "arr1.ndim"
      ]
    },
    {
      "cell_type": "markdown",
      "metadata": {
        "id": "CBWvGXItx9Cq"
      },
      "source": [
        "## Built-in Methods\n",
        "\n",
        "There are lots of built-in ways to generate Arrays"
      ]
    },
    {
      "cell_type": "markdown",
      "metadata": {
        "id": "v6DHmJMuJxA4"
      },
      "source": [
        "### Reshape function"
      ]
    },
    {
      "cell_type": "code",
      "execution_count": null,
      "metadata": {
        "id": "0w3Me61HXVut",
        "outputId": "46d667c7-4d0f-447e-a4e6-dc8ed5be43bd"
      },
      "outputs": [
        {
          "data": {
            "text/plain": [
              "array([[[ 1,  2,  3],\n",
              "        [ 4,  5,  6]],\n",
              "\n",
              "       [[ 7,  8,  9],\n",
              "        [10, 11, 12]]])"
            ]
          },
          "execution_count": 38,
          "metadata": {},
          "output_type": "execute_result"
        }
      ],
      "source": [
        "arr1"
      ]
    },
    {
      "cell_type": "code",
      "execution_count": null,
      "metadata": {
        "colab": {
          "base_uri": "https://localhost:8080/"
        },
        "id": "tG94TZQmhgse",
        "outputId": "f346f846-1721-45b7-defa-464eb510666f"
      },
      "outputs": [
        {
          "data": {
            "text/plain": [
              "(2, 2, 3)"
            ]
          },
          "execution_count": 39,
          "metadata": {},
          "output_type": "execute_result"
        }
      ],
      "source": [
        "arr1.shape"
      ]
    },
    {
      "cell_type": "code",
      "execution_count": null,
      "metadata": {
        "id": "C7h5c-9YXVut",
        "outputId": "f1bf17a2-e534-4a09-b4a0-d4c58557764a"
      },
      "outputs": [
        {
          "data": {
            "text/plain": [
              "12"
            ]
          },
          "execution_count": 40,
          "metadata": {},
          "output_type": "execute_result"
        }
      ],
      "source": [
        "arr1.size"
      ]
    },
    {
      "cell_type": "code",
      "execution_count": null,
      "metadata": {
        "id": "bo16gYL9XVut",
        "outputId": "acc8aec8-cef2-4cda-9d1c-6f24b7e85142"
      },
      "outputs": [
        {
          "data": {
            "text/plain": [
              "array([[ 1,  2,  3],\n",
              "       [ 4,  5,  6],\n",
              "       [ 7,  8,  9],\n",
              "       [10, 11, 12]])"
            ]
          },
          "execution_count": 41,
          "metadata": {},
          "output_type": "execute_result"
        }
      ],
      "source": [
        "arr1.reshape(4,3) # reshaping array in 2D"
      ]
    },
    {
      "cell_type": "code",
      "execution_count": null,
      "metadata": {
        "id": "Ha7Q-N2YXVut",
        "outputId": "1a9a9216-bf96-424b-a9b2-c5097c897f1e"
      },
      "outputs": [
        {
          "ename": "ValueError",
          "evalue": "cannot reshape array of size 12 into shape (8,2)",
          "output_type": "error",
          "traceback": [
            "\u001b[1;31m---------------------------------------------------------------------------\u001b[0m",
            "\u001b[1;31mValueError\u001b[0m                                Traceback (most recent call last)",
            "Cell \u001b[1;32mIn[42], line 1\u001b[0m\n\u001b[1;32m----> 1\u001b[0m \u001b[43marr1\u001b[49m\u001b[38;5;241;43m.\u001b[39;49m\u001b[43mreshape\u001b[49m\u001b[43m(\u001b[49m\u001b[38;5;241;43m8\u001b[39;49m\u001b[43m,\u001b[49m\u001b[38;5;241;43m2\u001b[39;49m\u001b[43m)\u001b[49m\n",
            "\u001b[1;31mValueError\u001b[0m: cannot reshape array of size 12 into shape (8,2)"
          ]
        }
      ],
      "source": [
        "arr1.reshape(8,2)"
      ]
    },
    {
      "cell_type": "markdown",
      "metadata": {
        "id": "XhQO3kn6XVut"
      },
      "source": [
        "Task:- Reshape arr1 in all possible dimension"
      ]
    },
    {
      "cell_type": "code",
      "execution_count": null,
      "metadata": {
        "id": "Av6ij56eJxA4"
      },
      "outputs": [],
      "source": [
        "arr2=arr1.reshape((1,1,1,1,5))  # reshaping the array\n",
        "# by changing  the dimension i.e 5D"
      ]
    },
    {
      "cell_type": "code",
      "execution_count": null,
      "metadata": {
        "id": "WEiimHAMXVuu"
      },
      "outputs": [],
      "source": [
        "arr1.ndim"
      ]
    },
    {
      "cell_type": "code",
      "execution_count": null,
      "metadata": {
        "id": "aAHkKmizJxA5",
        "scrolled": true
      },
      "outputs": [],
      "source": [
        "arr3 =arr1.reshape(-1) # Convert multidimensional array to 1-D array"
      ]
    },
    {
      "cell_type": "code",
      "execution_count": null,
      "metadata": {
        "id": "Jo9oy2RJXVuu"
      },
      "outputs": [],
      "source": [
        "arr3.ndim"
      ]
    },
    {
      "cell_type": "markdown",
      "metadata": {
        "id": "5Cv-5217x9Cr"
      },
      "source": [
        "### arange\n",
        "\n",
        "Return evenly spaced values within a given interval."
      ]
    },
    {
      "cell_type": "code",
      "execution_count": null,
      "metadata": {
        "id": "RdQZ7p_ig7zQ"
      },
      "outputs": [],
      "source": [
        "np.arange(15) # end; default start at 0"
      ]
    },
    {
      "cell_type": "code",
      "execution_count": null,
      "metadata": {
        "id": "lb79mMCCJxA6"
      },
      "outputs": [],
      "source": [
        "np.arange(2,15) # start, end and step"
      ]
    },
    {
      "cell_type": "code",
      "execution_count": null,
      "metadata": {
        "id": "mghsYj9Kx9Cu"
      },
      "outputs": [],
      "source": [
        "np.arange(0,10,2) # start end and step"
      ]
    },
    {
      "cell_type": "markdown",
      "metadata": {
        "id": "Eoo2efIBx9Cw"
      },
      "source": [
        "### zeros and ones\n",
        "\n",
        "Generate arrays of zeros or ones"
      ]
    },
    {
      "cell_type": "code",
      "execution_count": null,
      "metadata": {
        "id": "M-EcBWFHx9Cw"
      },
      "outputs": [],
      "source": [
        "np.zeros(3) # Generates array in 1 dimension with all elements 0"
      ]
    },
    {
      "cell_type": "code",
      "execution_count": null,
      "metadata": {
        "id": "xlxP67Tpx9Cz"
      },
      "outputs": [],
      "source": [
        "np.zeros((5,5))  # Generates array in 2 diemnsions with all elements 0"
      ]
    },
    {
      "cell_type": "code",
      "execution_count": null,
      "metadata": {
        "id": "mUvIqaygXVuv"
      },
      "outputs": [],
      "source": [
        "np.zeros((4,5,2))  # no of elements in each dimension in backward direction\n",
        "# 2--> 1D ,5-->2D,  4-->3D"
      ]
    },
    {
      "cell_type": "code",
      "execution_count": null,
      "metadata": {
        "id": "MtPqppv-x9C2"
      },
      "outputs": [],
      "source": [
        "np.ones(3) # Generates array of 1 dimension where all elements are 1"
      ]
    },
    {
      "cell_type": "code",
      "execution_count": null,
      "metadata": {
        "id": "uobcKhowg7zS"
      },
      "outputs": [],
      "source": [
        "np.ones((4,6)) # Generates array of 2 dimensions where all elements are 1"
      ]
    },
    {
      "cell_type": "markdown",
      "metadata": {
        "id": "6xCoih_Nx9C5"
      },
      "source": [
        "### linspace\n",
        "Return evenly spaced numbers over a specified interval."
      ]
    },
    {
      "cell_type": "code",
      "execution_count": null,
      "metadata": {
        "id": "voj4yQH2JxBM"
      },
      "outputs": [],
      "source": [
        "np.linspace(1,15)  # default 50 observations\n",
        "# both the start and end are included in the array"
      ]
    },
    {
      "cell_type": "code",
      "execution_count": null,
      "metadata": {
        "id": "W2giypROJxBM"
      },
      "outputs": [],
      "source": [
        "np.linspace(5,25,num=10,retstep=True)  # equally spaced 10 values"
      ]
    },
    {
      "cell_type": "code",
      "execution_count": null,
      "metadata": {
        "id": "0eUeYysOJxBN"
      },
      "outputs": [],
      "source": [
        "# retstep ~ return stepsize computed by linspace"
      ]
    },
    {
      "cell_type": "code",
      "execution_count": null,
      "metadata": {
        "id": "IgfnlXsTx9C6"
      },
      "outputs": [],
      "source": [
        "np.linspace(0,25, retstep=True) # Start # end (Here end is included)\n",
        "#and default elements are 50"
      ]
    },
    {
      "cell_type": "code",
      "execution_count": null,
      "metadata": {
        "id": "xu026tsnJxBO"
      },
      "outputs": [],
      "source": [
        "np.linspace(0,200,10) # default retstep=False"
      ]
    },
    {
      "cell_type": "code",
      "execution_count": null,
      "metadata": {
        "id": "1ABp4EONJxBP"
      },
      "outputs": [],
      "source": [
        "np.linspace(0,200,10,retstep=True)"
      ]
    },
    {
      "cell_type": "markdown",
      "metadata": {
        "id": "JdFde4Sjx9C8"
      },
      "source": [
        "### eye\n",
        "\n",
        "- Creates an identity matrix\n",
        "- Diagonal elements are 1"
      ]
    },
    {
      "cell_type": "code",
      "execution_count": null,
      "metadata": {
        "id": "038mjaC_x9C_"
      },
      "outputs": [],
      "source": [
        "np.eye(5)   # generates 2d array of (5,5)"
      ]
    },
    {
      "cell_type": "markdown",
      "metadata": {
        "id": "LP1-0EZBJxBR"
      },
      "source": [
        "### Broadcasting in an array"
      ]
    },
    {
      "cell_type": "markdown",
      "metadata": {
        "id": "FfxVtneHJxBU"
      },
      "source": [
        "#### The ability to access each and every element of an array is known as Broadcasting."
      ]
    },
    {
      "cell_type": "code",
      "execution_count": null,
      "metadata": {
        "id": "ySwZZfNTXVuw"
      },
      "outputs": [],
      "source": [
        "l1 = [1,2,3,4]"
      ]
    },
    {
      "cell_type": "code",
      "execution_count": null,
      "metadata": {
        "id": "geg06vyXXVux"
      },
      "outputs": [],
      "source": [
        "l1"
      ]
    },
    {
      "cell_type": "code",
      "execution_count": null,
      "metadata": {
        "id": "yXpoYBmKXVux"
      },
      "outputs": [],
      "source": [
        "l1 * 5"
      ]
    },
    {
      "cell_type": "code",
      "execution_count": null,
      "metadata": {
        "id": "3u33yaPxJxBR"
      },
      "outputs": [],
      "source": [
        "big_one=np.ones((3,4))\n",
        "print(big_one)"
      ]
    },
    {
      "cell_type": "code",
      "execution_count": null,
      "metadata": {
        "id": "3LWHGLrTJxBS"
      },
      "outputs": [],
      "source": [
        "big_one.dtype"
      ]
    },
    {
      "cell_type": "code",
      "execution_count": null,
      "metadata": {
        "id": "KiL9eAZdJxBT"
      },
      "outputs": [],
      "source": [
        "big_one * 3"
      ]
    },
    {
      "cell_type": "code",
      "execution_count": null,
      "metadata": {
        "id": "MWev3L66JxBV"
      },
      "outputs": [],
      "source": [
        "bigger_one=big_one*6 - 2\n",
        "bigger_one"
      ]
    },
    {
      "cell_type": "code",
      "execution_count": null,
      "metadata": {
        "id": "y5ZFyFNQJxBW"
      },
      "outputs": [],
      "source": [
        "bigger=np.array(big_one*3 - 0.4, dtype='int')\n",
        "print(bigger)"
      ]
    },
    {
      "cell_type": "code",
      "execution_count": null,
      "metadata": {
        "id": "51xpmlcfJxBX"
      },
      "outputs": [],
      "source": [
        "bigger.dtype"
      ]
    },
    {
      "cell_type": "code",
      "execution_count": null,
      "metadata": {
        "id": "slTeCs7gJxBY"
      },
      "outputs": [],
      "source": [
        "type(bigger)"
      ]
    },
    {
      "cell_type": "code",
      "execution_count": null,
      "metadata": {
        "id": "EWju_I0VJxBZ"
      },
      "outputs": [],
      "source": [
        "bigger.shape"
      ]
    },
    {
      "cell_type": "code",
      "execution_count": null,
      "metadata": {
        "id": "XJJwlycmXVuy"
      },
      "outputs": [],
      "source": [
        "arr1"
      ]
    },
    {
      "cell_type": "markdown",
      "metadata": {
        "id": "QNV67ghlXVuy"
      },
      "source": [
        "## Arithmetic operations on Array"
      ]
    },
    {
      "cell_type": "code",
      "execution_count": null,
      "metadata": {
        "id": "0-71lspMmj6e"
      },
      "outputs": [],
      "source": [
        "arr=np.arange(0,20)"
      ]
    },
    {
      "cell_type": "code",
      "execution_count": null,
      "metadata": {
        "id": "yo2tysn0XVuy",
        "outputId": "2145e7ac-6845-461e-a676-2437620811e6"
      },
      "outputs": [
        {
          "data": {
            "text/plain": [
              "array([ 0,  1,  2,  3,  4,  5,  6,  7,  8,  9, 10, 11, 12, 13, 14, 15, 16,\n",
              "       17, 18, 19])"
            ]
          },
          "execution_count": 44,
          "metadata": {},
          "output_type": "execute_result"
        }
      ],
      "source": [
        "arr"
      ]
    },
    {
      "cell_type": "code",
      "execution_count": null,
      "metadata": {
        "colab": {
          "base_uri": "https://localhost:8080/"
        },
        "id": "WupDdDtrJxBb",
        "outputId": "8d1f5789-c548-4710-f734-097af58a2d0f"
      },
      "outputs": [
        {
          "data": {
            "text/plain": [
              "array([ 0,  2,  4,  6,  8, 10, 12, 14, 16, 18, 20, 22, 24, 26, 28, 30, 32,\n",
              "       34, 36, 38])"
            ]
          },
          "execution_count": 45,
          "metadata": {},
          "output_type": "execute_result"
        }
      ],
      "source": [
        "arr + arr  # Addition of two arrays"
      ]
    },
    {
      "cell_type": "code",
      "execution_count": null,
      "metadata": {
        "colab": {
          "base_uri": "https://localhost:8080/"
        },
        "id": "gd5dHVtfmxH3",
        "outputId": "01986d55-c36c-425a-e90d-96f6192cd935"
      },
      "outputs": [
        {
          "data": {
            "text/plain": [
              "array([  0,   1,   4,   9,  16,  25,  36,  49,  64,  81, 100, 121, 144,\n",
              "       169, 196, 225, 256, 289, 324, 361])"
            ]
          },
          "execution_count": 46,
          "metadata": {},
          "output_type": "execute_result"
        }
      ],
      "source": [
        "arr * arr #Multiplication of two arrays"
      ]
    },
    {
      "cell_type": "code",
      "execution_count": null,
      "metadata": {
        "collapsed": true,
        "id": "AXRQI3JFXVuy",
        "outputId": "3a9acb69-a179-47db-b9fb-a8da0d8fc966"
      },
      "outputs": [
        {
          "data": {
            "text/plain": [
              "array([0, 0, 0, 0, 0, 0, 0, 0, 0, 0, 0, 0, 0, 0, 0, 0, 0, 0, 0, 0])"
            ]
          },
          "execution_count": 47,
          "metadata": {},
          "output_type": "execute_result"
        }
      ],
      "source": [
        "arr - arr  # Subtraction of two array"
      ]
    },
    {
      "cell_type": "code",
      "execution_count": null,
      "metadata": {
        "collapsed": true,
        "id": "p4SCXw_pXVuy",
        "outputId": "79375e7a-368f-4f64-fd8c-2a20e5387875"
      },
      "outputs": [
        {
          "name": "stderr",
          "output_type": "stream",
          "text": [
            "C:\\Users\\Datamites\\AppData\\Local\\Temp\\ipykernel_12368\\3441291647.py:1: RuntimeWarning: invalid value encountered in divide\n",
            "  arr / arr # Division of two array\n"
          ]
        },
        {
          "data": {
            "text/plain": [
              "array([nan,  1.,  1.,  1.,  1.,  1.,  1.,  1.,  1.,  1.,  1.,  1.,  1.,\n",
              "        1.,  1.,  1.,  1.,  1.,  1.,  1.])"
            ]
          },
          "execution_count": 48,
          "metadata": {},
          "output_type": "execute_result"
        }
      ],
      "source": [
        "arr / arr # Division of two array"
      ]
    },
    {
      "cell_type": "code",
      "execution_count": null,
      "metadata": {
        "collapsed": true,
        "id": "xWCl5jN7XVuz",
        "outputId": "41330a18-7ef2-4024-f86c-bcb3b615e88c"
      },
      "outputs": [
        {
          "name": "stderr",
          "output_type": "stream",
          "text": [
            "C:\\Users\\Datamites\\AppData\\Local\\Temp\\ipykernel_12368\\2402824131.py:1: RuntimeWarning: divide by zero encountered in divide\n",
            "  1/arr  #reciprocal\n"
          ]
        },
        {
          "data": {
            "text/plain": [
              "array([       inf, 1.        , 0.5       , 0.33333333, 0.25      ,\n",
              "       0.2       , 0.16666667, 0.14285714, 0.125     , 0.11111111,\n",
              "       0.1       , 0.09090909, 0.08333333, 0.07692308, 0.07142857,\n",
              "       0.06666667, 0.0625    , 0.05882353, 0.05555556, 0.05263158])"
            ]
          },
          "execution_count": 49,
          "metadata": {},
          "output_type": "execute_result"
        }
      ],
      "source": [
        "1/arr  #reciprocal"
      ]
    },
    {
      "cell_type": "code",
      "execution_count": null,
      "metadata": {
        "collapsed": true,
        "id": "psx-zce6XVuz",
        "outputId": "60c62b00-1e7a-4bb6-8a38-9824589b5014"
      },
      "outputs": [
        {
          "data": {
            "text/plain": [
              "array([   0,    1,    8,   27,   64,  125,  216,  343,  512,  729, 1000,\n",
              "       1331, 1728, 2197, 2744, 3375, 4096, 4913, 5832, 6859], dtype=int32)"
            ]
          },
          "execution_count": 50,
          "metadata": {},
          "output_type": "execute_result"
        }
      ],
      "source": [
        "arr **3"
      ]
    },
    {
      "cell_type": "code",
      "execution_count": null,
      "metadata": {
        "collapsed": true,
        "id": "wV4ACexmXVuz",
        "outputId": "466ac2c8-eaf7-4853-938a-a22383fccc04"
      },
      "outputs": [
        {
          "data": {
            "text/plain": [
              "array([0, 1, 2, 0, 1, 2, 0, 1, 2, 0, 1, 2, 0, 1, 2, 0, 1, 2, 0, 1],\n",
              "      dtype=int32)"
            ]
          },
          "execution_count": 51,
          "metadata": {},
          "output_type": "execute_result"
        }
      ],
      "source": [
        "arr %3"
      ]
    },
    {
      "cell_type": "markdown",
      "metadata": {
        "id": "fEYIoFWgJxBc"
      },
      "source": [
        "### Use of Copy function"
      ]
    },
    {
      "cell_type": "code",
      "execution_count": null,
      "metadata": {
        "collapsed": true,
        "id": "O4v5y9FNXVuz",
        "outputId": "e9976d55-ee06-4b94-8a98-396cc869be63"
      },
      "outputs": [
        {
          "data": {
            "text/plain": [
              "array([ 1,  2,  3,  4,  5,  6,  7,  8,  9, 10, 11, 12, 13, 14, 15, 16, 17,\n",
              "       18, 19, 20])"
            ]
          },
          "execution_count": 52,
          "metadata": {},
          "output_type": "execute_result"
        }
      ],
      "source": [
        "arr = np.array([1,2,3,4,5,6,7,8,9,10,11,12,13,14,15,16,17,18,19,20])\n",
        "arr"
      ]
    },
    {
      "cell_type": "code",
      "execution_count": null,
      "metadata": {
        "colab": {
          "base_uri": "https://localhost:8080/"
        },
        "collapsed": true,
        "id": "JdRYjZF-JxBd",
        "outputId": "d322f18b-875d-43e8-922f-137f35a68c26"
      },
      "outputs": [
        {
          "data": {
            "text/plain": [
              "array([ 1,  2,  3,  4,  5,  6,  7,  8,  9, 10, 11, 12, 13, 14, 15, 16, 17,\n",
              "       18, 19, 20])"
            ]
          },
          "execution_count": 53,
          "metadata": {},
          "output_type": "execute_result"
        }
      ],
      "source": [
        "arr2 = arr\n",
        "arr2"
      ]
    },
    {
      "cell_type": "code",
      "execution_count": null,
      "metadata": {
        "id": "7qbURbM0JxBe"
      },
      "outputs": [],
      "source": [
        "arr2[1:6] = 100"
      ]
    },
    {
      "cell_type": "code",
      "execution_count": null,
      "metadata": {
        "colab": {
          "base_uri": "https://localhost:8080/"
        },
        "collapsed": true,
        "id": "2xJG8lkhnh-6",
        "outputId": "99569dc9-4aca-4439-ca3c-c32f45163b78"
      },
      "outputs": [
        {
          "data": {
            "text/plain": [
              "array([  1, 100, 100, 100, 100, 100,   7,   8,   9,  10,  11,  12,  13,\n",
              "        14,  15,  16,  17,  18,  19,  20])"
            ]
          },
          "execution_count": 55,
          "metadata": {},
          "output_type": "execute_result"
        }
      ],
      "source": [
        "arr2"
      ]
    },
    {
      "cell_type": "code",
      "execution_count": null,
      "metadata": {
        "collapsed": true,
        "id": "lSKsIzYbXVu0",
        "outputId": "7e70662a-d82c-4f86-a58f-16c25737795b"
      },
      "outputs": [
        {
          "data": {
            "text/plain": [
              "array([  1, 100, 100, 100, 100, 100,   7,   8,   9,  10,  11,  12,  13,\n",
              "        14,  15,  16,  17,  18,  19,  20])"
            ]
          },
          "execution_count": 56,
          "metadata": {},
          "output_type": "execute_result"
        }
      ],
      "source": [
        "arr"
      ]
    },
    {
      "cell_type": "markdown",
      "metadata": {
        "id": "_a5dlMriXVu0"
      },
      "source": [
        "Now note the changes also occur in our original   array.So to take backups donot use assignment operator.Instead use copy fuction."
      ]
    },
    {
      "cell_type": "code",
      "execution_count": null,
      "metadata": {
        "id": "OMWh0jN5JxBg"
      },
      "outputs": [],
      "source": [
        "arr3 = arr.copy() # generate a copy / creates a backup"
      ]
    },
    {
      "cell_type": "code",
      "execution_count": null,
      "metadata": {
        "collapsed": true,
        "id": "KIxGovsyXVu0",
        "outputId": "f057fe24-5911-46d9-f229-14816508d5a3"
      },
      "outputs": [
        {
          "data": {
            "text/plain": [
              "array([  1, 100, 100, 100, 100, 100,   7,   8,   9,  10,  11,  12,  13,\n",
              "        14,  15,  16,  17,  18,  19,  20])"
            ]
          },
          "execution_count": 58,
          "metadata": {},
          "output_type": "execute_result"
        }
      ],
      "source": [
        "arr3"
      ]
    },
    {
      "cell_type": "code",
      "execution_count": null,
      "metadata": {
        "colab": {
          "base_uri": "https://localhost:8080/"
        },
        "collapsed": true,
        "id": "VpxDqPQYJxBg",
        "outputId": "3621b035-406f-4494-9550-6177b4933c97"
      },
      "outputs": [
        {
          "data": {
            "text/plain": [
              "array([  1, 500, 500, 500, 500, 500,   7,   8,   9,  10,  11,  12,  13,\n",
              "        14,  15,  16,  17,  18,  19,  20])"
            ]
          },
          "execution_count": 59,
          "metadata": {},
          "output_type": "execute_result"
        }
      ],
      "source": [
        "arr3[1:6] = 500\n",
        "arr3"
      ]
    },
    {
      "cell_type": "code",
      "execution_count": null,
      "metadata": {
        "colab": {
          "base_uri": "https://localhost:8080/"
        },
        "collapsed": true,
        "id": "U5-cDDE_JxBh",
        "outputId": "3b65b849-180a-4ef6-a4fd-ae6ab68d10d1"
      },
      "outputs": [
        {
          "data": {
            "text/plain": [
              "array([  1, 100, 100, 100, 100, 100,   7,   8,   9,  10,  11,  12,  13,\n",
              "        14,  15,  16,  17,  18,  19,  20])"
            ]
          },
          "execution_count": 60,
          "metadata": {},
          "output_type": "execute_result"
        }
      ],
      "source": [
        "arr  # copy function retains the original. copy creates a backup array."
      ]
    },
    {
      "cell_type": "code",
      "execution_count": null,
      "metadata": {
        "id": "0tmv9363XVu0",
        "outputId": "92dcc19a-1d27-46bf-ca09-ea90d86d1463"
      },
      "outputs": [
        {
          "data": {
            "text/plain": [
              "2773380946256"
            ]
          },
          "execution_count": 61,
          "metadata": {},
          "output_type": "execute_result"
        }
      ],
      "source": [
        "id(arr)"
      ]
    },
    {
      "cell_type": "code",
      "execution_count": null,
      "metadata": {
        "id": "JJqUxfT1XVu0",
        "outputId": "57dc8b7c-ad90-4b16-b98d-11b19a33176d"
      },
      "outputs": [
        {
          "data": {
            "text/plain": [
              "2773380946256"
            ]
          },
          "execution_count": 62,
          "metadata": {},
          "output_type": "execute_result"
        }
      ],
      "source": [
        "id(arr2)"
      ]
    },
    {
      "cell_type": "code",
      "execution_count": null,
      "metadata": {
        "id": "NFBJnc1HXVu1",
        "outputId": "d02a7728-239d-4ac3-8bd6-5200118add2d"
      },
      "outputs": [
        {
          "data": {
            "text/plain": [
              "2773380947024"
            ]
          },
          "execution_count": 65,
          "metadata": {},
          "output_type": "execute_result"
        }
      ],
      "source": [
        "id(arr3)"
      ]
    },
    {
      "cell_type": "markdown",
      "metadata": {
        "id": "dWJq5smax9DF"
      },
      "source": [
        "## Random number generation\n",
        "\n",
        "Numpy also has lots of ways to create random number arrays:\n",
        "\n",
        "### rand\n",
        "Create an array of the given shape and populate it with\n",
        "random samples from a uniform distribution\n",
        "over ``[0, 1)``."
      ]
    },
    {
      "cell_type": "code",
      "execution_count": null,
      "metadata": {
        "colab": {
          "base_uri": "https://localhost:8080/"
        },
        "id": "1_tujYDWJxBk",
        "outputId": "9faf5d16-c02f-47d4-a9ee-a972a67425d7"
      },
      "outputs": [
        {
          "data": {
            "text/plain": [
              "0.09208139236577273"
            ]
          },
          "execution_count": 68,
          "metadata": {},
          "output_type": "execute_result"
        }
      ],
      "source": [
        "np.random.rand()"
      ]
    },
    {
      "cell_type": "code",
      "execution_count": null,
      "metadata": {
        "colab": {
          "base_uri": "https://localhost:8080/"
        },
        "collapsed": true,
        "id": "fOvH5i4Vx9DG",
        "outputId": "4eb91e4d-d84e-42c0-cd06-df7e73cb80bf"
      },
      "outputs": [
        {
          "data": {
            "text/plain": [
              "array([0.80299876, 0.28452493, 0.94891575, 0.7251671 , 0.63181441,\n",
              "       0.80711638, 0.4635487 , 0.19768443, 0.74093684, 0.22555695])"
            ]
          },
          "execution_count": 69,
          "metadata": {},
          "output_type": "execute_result"
        }
      ],
      "source": [
        "np.random.rand(10) # rand gives values between 0 and 1"
      ]
    },
    {
      "cell_type": "code",
      "execution_count": null,
      "metadata": {
        "colab": {
          "base_uri": "https://localhost:8080/"
        },
        "collapsed": true,
        "id": "ibUE2uN0JxBl",
        "outputId": "7a840aa5-4af5-4972-9d2a-c095f6872b69"
      },
      "outputs": [
        {
          "data": {
            "text/plain": [
              "array([[0.25959593, 0.01758784],\n",
              "       [0.87380047, 0.49394468],\n",
              "       [0.20453404, 0.89997901],\n",
              "       [0.28070346, 0.35342389],\n",
              "       [0.01030008, 0.1519607 ]])"
            ]
          },
          "execution_count": 70,
          "metadata": {},
          "output_type": "execute_result"
        }
      ],
      "source": [
        "np.random.rand(5,2)"
      ]
    },
    {
      "cell_type": "code",
      "execution_count": null,
      "metadata": {
        "id": "efcVMWykg7zT"
      },
      "outputs": [],
      "source": [
        "# Creating array from uniform distribution\n",
        "new_arr=np.random.rand(5,3,2)\n",
        "# 3 dimensional array of shape (5,3,2)"
      ]
    },
    {
      "cell_type": "code",
      "execution_count": null,
      "metadata": {
        "collapsed": true,
        "id": "5Q4F0UNMJxBm",
        "outputId": "7b47265e-3e2a-43db-e96d-e243626cd922"
      },
      "outputs": [
        {
          "data": {
            "text/plain": [
              "array([[[0.10230739, 0.62369227],\n",
              "        [0.32834691, 0.16529055],\n",
              "        [0.04759791, 0.43395644]],\n",
              "\n",
              "       [[0.32707123, 0.27750596],\n",
              "        [0.24266157, 0.69702733],\n",
              "        [0.0766651 , 0.56222152]],\n",
              "\n",
              "       [[0.4809184 , 0.14638078],\n",
              "        [0.79706667, 0.60848518],\n",
              "        [0.30700927, 0.80383148]],\n",
              "\n",
              "       [[0.15892159, 0.99071093],\n",
              "        [0.95235361, 0.638323  ],\n",
              "        [0.23418316, 0.29183254]],\n",
              "\n",
              "       [[0.95188475, 0.61294577],\n",
              "        [0.82219027, 0.02678759],\n",
              "        [0.63514774, 0.95876053]]])"
            ]
          },
          "execution_count": 78,
          "metadata": {},
          "output_type": "execute_result"
        }
      ],
      "source": [
        "new_arr"
      ]
    },
    {
      "cell_type": "code",
      "execution_count": null,
      "metadata": {
        "collapsed": true,
        "id": "FE9XNpt5x9DH",
        "outputId": "7f0ccac5-648b-4155-e10a-93429350da00"
      },
      "outputs": [
        {
          "data": {
            "text/plain": [
              "array([[[[0.10504603, 0.54374483]],\n",
              "\n",
              "        [[0.17126573, 0.54034906]],\n",
              "\n",
              "        [[0.94429884, 0.03257877]]],\n",
              "\n",
              "\n",
              "       [[[0.82301449, 0.89274957]],\n",
              "\n",
              "        [[0.91530649, 0.92619421]],\n",
              "\n",
              "        [[0.77338337, 0.66871895]]],\n",
              "\n",
              "\n",
              "       [[[0.67196554, 0.16731566]],\n",
              "\n",
              "        [[0.18077408, 0.69853402]],\n",
              "\n",
              "        [[0.85104849, 0.58809884]]]])"
            ]
          },
          "execution_count": 79,
          "metadata": {},
          "output_type": "execute_result"
        }
      ],
      "source": [
        "np.random.rand(3,3,1,2)  #4D array"
      ]
    },
    {
      "cell_type": "markdown",
      "metadata": {
        "id": "LrrwZjCjx9DJ"
      },
      "source": [
        "### randn\n",
        "\n",
        "Return a sample (or samples) from the \"standard normal\" distribution. Unlike rand which is uniform:"
      ]
    },
    {
      "cell_type": "markdown",
      "metadata": {
        "id": "fD8KQewbJxBn"
      },
      "source": [
        "##### For randn, random numbbers generated will be in approximately -3 to +3 range."
      ]
    },
    {
      "cell_type": "code",
      "execution_count": null,
      "metadata": {
        "collapsed": true,
        "id": "i2F_3QHqx9DJ",
        "outputId": "e413a21e-bb38-4611-b3f7-419fdf7b2972"
      },
      "outputs": [
        {
          "data": {
            "text/plain": [
              "array([-2.48450892e-04, -9.02762211e-01, -4.44242710e-01,  4.62908140e-01,\n",
              "       -1.10167789e+00])"
            ]
          },
          "execution_count": 80,
          "metadata": {},
          "output_type": "execute_result"
        }
      ],
      "source": [
        "arr1=np.random.randn(5)  # 5 observations from std normal distribution\n",
        "arr1"
      ]
    },
    {
      "cell_type": "code",
      "execution_count": null,
      "metadata": {
        "colab": {
          "base_uri": "https://localhost:8080/"
        },
        "id": "0QoHHTwcJxBp",
        "outputId": "62e8ba76-6281-4b37-f2db-79694503de0f"
      },
      "outputs": [
        {
          "data": {
            "text/plain": [
              "-0.3972046252058743"
            ]
          },
          "execution_count": 81,
          "metadata": {},
          "output_type": "execute_result"
        }
      ],
      "source": [
        "np.mean(arr1)"
      ]
    },
    {
      "cell_type": "code",
      "execution_count": null,
      "metadata": {
        "colab": {
          "base_uri": "https://localhost:8080/"
        },
        "id": "0FP8GKD4x9DK",
        "outputId": "67d7fc9a-2c5e-4b27-dc83-b7aa4b3f8cbd"
      },
      "outputs": [
        {
          "data": {
            "text/plain": [
              "0.5747089372767723"
            ]
          },
          "execution_count": 82,
          "metadata": {},
          "output_type": "execute_result"
        }
      ],
      "source": [
        "np.std(arr1)"
      ]
    },
    {
      "cell_type": "markdown",
      "metadata": {
        "id": "glHOxsNXx9DL"
      },
      "source": [
        "### randint\n",
        "Return random integers from `low` (inclusive) to `high` (exclusive)."
      ]
    },
    {
      "cell_type": "code",
      "execution_count": null,
      "metadata": {
        "colab": {
          "base_uri": "https://localhost:8080/"
        },
        "collapsed": true,
        "id": "HX_-jaJvx9DL",
        "outputId": "f0139169-35a7-4d10-99c1-7a2abe39ebac"
      },
      "outputs": [
        {
          "data": {
            "text/plain": [
              "79"
            ]
          },
          "execution_count": 83,
          "metadata": {},
          "output_type": "execute_result"
        }
      ],
      "source": [
        "np.random.randint(1,100)\n",
        "# third argument is no. of values. default =1 value"
      ]
    },
    {
      "cell_type": "code",
      "execution_count": null,
      "metadata": {
        "colab": {
          "base_uri": "https://localhost:8080/"
        },
        "collapsed": true,
        "id": "bE3bAdd7x9DN",
        "outputId": "f41d2998-c46c-4259-f7da-77df1f55941d"
      },
      "outputs": [
        {
          "data": {
            "text/plain": [
              "array([24,  2, 26, 80, 53, 83,  2, 95, 61, 13])"
            ]
          },
          "execution_count": 84,
          "metadata": {},
          "output_type": "execute_result"
        }
      ],
      "source": [
        "np.random.randint(1,100,10)"
      ]
    },
    {
      "cell_type": "code",
      "execution_count": null,
      "metadata": {
        "colab": {
          "base_uri": "https://localhost:8080/"
        },
        "collapsed": true,
        "id": "FopcXf2JJxBu",
        "outputId": "8362fd1f-5f5e-4fbd-da8d-190924bbcd55"
      },
      "outputs": [
        {
          "data": {
            "text/plain": [
              "array([59, 43, 54, 55, 58, 53, 46, 44, 47, 46, 59, 43, 50, 58, 59, 55, 59,\n",
              "       46, 40, 47, 40, 51, 55, 46, 53, 51, 49, 57, 56, 51, 42, 53, 52, 50,\n",
              "       42, 53, 45, 51, 41, 52, 56, 41, 44, 50, 45, 48, 40, 41, 42, 57])"
            ]
          },
          "execution_count": 85,
          "metadata": {},
          "output_type": "execute_result"
        }
      ],
      "source": [
        "np.random.randint(40,60,size=50) # generating 50 values between"
      ]
    },
    {
      "cell_type": "markdown",
      "metadata": {
        "id": "y3OefZJ-x9DP"
      },
      "source": [
        "## Universal Array Function\n"
      ]
    },
    {
      "cell_type": "code",
      "execution_count": null,
      "metadata": {
        "collapsed": true,
        "id": "iBuMB-p3XVu3",
        "outputId": "d85eb7ce-af22-4744-d851-b62fec51d301"
      },
      "outputs": [
        {
          "data": {
            "text/plain": [
              "array([  1, 100, 100, 100, 100, 100,   7,   8,   9,  10,  11,  12,  13,\n",
              "        14,  15,  16,  17,  18,  19,  20])"
            ]
          },
          "execution_count": 86,
          "metadata": {},
          "output_type": "execute_result"
        }
      ],
      "source": [
        "arr"
      ]
    },
    {
      "cell_type": "code",
      "execution_count": null,
      "metadata": {
        "collapsed": true,
        "id": "6Lapnmr6XVu3",
        "outputId": "87cb6e19-c8ea-44e9-f9d3-cb9ab435bac3"
      },
      "outputs": [
        {
          "data": {
            "text/plain": [
              "array([  4, 103, 103, 103, 103, 103,  10,  11,  12,  13,  14,  15,  16,\n",
              "        17,  18,  19,  20,  21,  22,  23])"
            ]
          },
          "execution_count": 87,
          "metadata": {},
          "output_type": "execute_result"
        }
      ],
      "source": [
        "np.add(arr,3) ## add 3 to array"
      ]
    },
    {
      "cell_type": "code",
      "execution_count": null,
      "metadata": {
        "collapsed": true,
        "id": "0Y53EzpZXVu3",
        "outputId": "1efb9005-a914-4078-d4d2-5d64f8c67fc8"
      },
      "outputs": [
        {
          "data": {
            "text/plain": [
              "690"
            ]
          },
          "execution_count": 88,
          "metadata": {},
          "output_type": "execute_result"
        }
      ],
      "source": [
        "np.sum(arr)"
      ]
    },
    {
      "cell_type": "code",
      "execution_count": null,
      "metadata": {
        "collapsed": true,
        "id": "qqXZgUsvXVu3",
        "outputId": "f6739e9c-9e1b-4a81-c52a-e33f2790368f"
      },
      "outputs": [
        {
          "data": {
            "text/plain": [
              "array([ 1.        , 10.        , 10.        , 10.        , 10.        ,\n",
              "       10.        ,  2.64575131,  2.82842712,  3.        ,  3.16227766,\n",
              "        3.31662479,  3.46410162,  3.60555128,  3.74165739,  3.87298335,\n",
              "        4.        ,  4.12310563,  4.24264069,  4.35889894,  4.47213595])"
            ]
          },
          "execution_count": 89,
          "metadata": {},
          "output_type": "execute_result"
        }
      ],
      "source": [
        "np.sqrt(arr)"
      ]
    },
    {
      "cell_type": "code",
      "execution_count": null,
      "metadata": {
        "collapsed": true,
        "id": "GfuItEU6XVu3",
        "outputId": "d79d839c-9ff3-40ea-f655-b9066e5c524b"
      },
      "outputs": [
        {
          "data": {
            "text/plain": [
              "array([1.        , 4.64158883, 4.64158883, 4.64158883, 4.64158883,\n",
              "       4.64158883, 1.91293118, 2.        , 2.08008382, 2.15443469,\n",
              "       2.22398009, 2.28942849, 2.35133469, 2.41014226, 2.46621207,\n",
              "       2.5198421 , 2.57128159, 2.62074139, 2.66840165, 2.71441762])"
            ]
          },
          "execution_count": 90,
          "metadata": {},
          "output_type": "execute_result"
        }
      ],
      "source": [
        "np.cbrt(arr)"
      ]
    },
    {
      "cell_type": "code",
      "execution_count": null,
      "metadata": {
        "collapsed": true,
        "id": "gC94JrZvXVu3",
        "outputId": "65e2dbb0-b67b-4837-bee9-81db15f0d5a3"
      },
      "outputs": [
        {
          "data": {
            "text/plain": [
              "array([2.71828183e+00, 2.68811714e+43, 2.68811714e+43, 2.68811714e+43,\n",
              "       2.68811714e+43, 2.68811714e+43, 1.09663316e+03, 2.98095799e+03,\n",
              "       8.10308393e+03, 2.20264658e+04, 5.98741417e+04, 1.62754791e+05,\n",
              "       4.42413392e+05, 1.20260428e+06, 3.26901737e+06, 8.88611052e+06,\n",
              "       2.41549528e+07, 6.56599691e+07, 1.78482301e+08, 4.85165195e+08])"
            ]
          },
          "execution_count": 91,
          "metadata": {},
          "output_type": "execute_result"
        }
      ],
      "source": [
        "np.exp(arr) # calculating exponential"
      ]
    },
    {
      "cell_type": "code",
      "execution_count": null,
      "metadata": {
        "collapsed": true,
        "id": "MwT27qJkXVu3",
        "outputId": "37662bc9-9f44-4d9f-a176-7323ed909a47"
      },
      "outputs": [
        {
          "data": {
            "text/plain": [
              "array([ 0.84147098, -0.50636564, -0.50636564, -0.50636564, -0.50636564,\n",
              "       -0.50636564,  0.6569866 ,  0.98935825,  0.41211849, -0.54402111,\n",
              "       -0.99999021, -0.53657292,  0.42016704,  0.99060736,  0.65028784,\n",
              "       -0.28790332, -0.96139749, -0.75098725,  0.14987721,  0.91294525])"
            ]
          },
          "execution_count": 92,
          "metadata": {},
          "output_type": "execute_result"
        }
      ],
      "source": [
        "np.sin(arr)"
      ]
    },
    {
      "cell_type": "code",
      "execution_count": null,
      "metadata": {
        "collapsed": true,
        "id": "lbB1YTiHXVu3",
        "outputId": "ee171761-e74c-4e53-9ab3-b6159d7b29b9"
      },
      "outputs": [
        {
          "data": {
            "text/plain": [
              "array([ 0.54030231,  0.86231887,  0.86231887,  0.86231887,  0.86231887,\n",
              "        0.86231887,  0.75390225, -0.14550003, -0.91113026, -0.83907153,\n",
              "        0.0044257 ,  0.84385396,  0.90744678,  0.13673722, -0.75968791,\n",
              "       -0.95765948, -0.27516334,  0.66031671,  0.98870462,  0.40808206])"
            ]
          },
          "execution_count": 93,
          "metadata": {},
          "output_type": "execute_result"
        }
      ],
      "source": [
        "np.cos(arr)"
      ]
    },
    {
      "cell_type": "code",
      "execution_count": null,
      "metadata": {
        "collapsed": true,
        "id": "QNuq7pfKXVu4",
        "outputId": "2545ce5b-b56b-47f3-9b5d-603dded375a3"
      },
      "outputs": [
        {
          "data": {
            "text/plain": [
              "array([ 1.55740772e+00, -5.87213915e-01, -5.87213915e-01, -5.87213915e-01,\n",
              "       -5.87213915e-01, -5.87213915e-01,  8.71447983e-01, -6.79971146e+00,\n",
              "       -4.52315659e-01,  6.48360827e-01, -2.25950846e+02, -6.35859929e-01,\n",
              "        4.63021133e-01,  7.24460662e+00, -8.55993401e-01,  3.00632242e-01,\n",
              "        3.49391565e+00, -1.13731371e+00,  1.51589471e-01,  2.23716094e+00])"
            ]
          },
          "execution_count": 94,
          "metadata": {},
          "output_type": "execute_result"
        }
      ],
      "source": [
        "np.tan(arr)"
      ]
    },
    {
      "cell_type": "code",
      "execution_count": null,
      "metadata": {
        "collapsed": true,
        "id": "5OJmao0FXVu4",
        "outputId": "645a80e5-24f8-47f0-91d0-7e82b341ca34"
      },
      "outputs": [
        {
          "data": {
            "text/plain": [
              "array([0.        , 4.60517019, 4.60517019, 4.60517019, 4.60517019,\n",
              "       4.60517019, 1.94591015, 2.07944154, 2.19722458, 2.30258509,\n",
              "       2.39789527, 2.48490665, 2.56494936, 2.63905733, 2.7080502 ,\n",
              "       2.77258872, 2.83321334, 2.89037176, 2.94443898, 2.99573227])"
            ]
          },
          "execution_count": 95,
          "metadata": {},
          "output_type": "execute_result"
        }
      ],
      "source": [
        "np.log(arr)"
      ]
    },
    {
      "cell_type": "markdown",
      "metadata": {
        "id": "QDe4ZTxsx9DU"
      },
      "source": [
        "### max,min,argmax,argmin\n",
        "\n",
        "These are useful methods for finding max or min values. Or to find their index locations using argmin or argmax"
      ]
    },
    {
      "cell_type": "code",
      "execution_count": null,
      "metadata": {
        "id": "3AJ3w4Bpx9DV"
      },
      "outputs": [],
      "source": [
        "arr2=np.random.randint(1,100,20)"
      ]
    },
    {
      "cell_type": "code",
      "execution_count": null,
      "metadata": {
        "colab": {
          "base_uri": "https://localhost:8080/"
        },
        "id": "RMxXEOvc2ikP",
        "outputId": "96ce50b9-fac9-458e-d818-d85b688e9d7f"
      },
      "outputs": [
        {
          "data": {
            "text/plain": [
              "array([23, 50, 54, 86, 84, 73, 81, 13, 70, 45, 81, 16, 99, 24, 33, 15, 40,\n",
              "       59,  2, 28])"
            ]
          },
          "execution_count": 97,
          "metadata": {},
          "output_type": "execute_result"
        }
      ],
      "source": [
        "arr2"
      ]
    },
    {
      "cell_type": "code",
      "execution_count": null,
      "metadata": {
        "colab": {
          "base_uri": "https://localhost:8080/"
        },
        "id": "DZFZrRxe2gk-",
        "outputId": "2de218c9-df30-48b6-8be2-2b21696f14db"
      },
      "outputs": [
        {
          "data": {
            "text/plain": [
              "99"
            ]
          },
          "execution_count": 98,
          "metadata": {},
          "output_type": "execute_result"
        }
      ],
      "source": [
        "arr2.max() # gives maximum values of element"
      ]
    },
    {
      "cell_type": "code",
      "execution_count": null,
      "metadata": {
        "colab": {
          "base_uri": "https://localhost:8080/"
        },
        "id": "xQMx-Wqn2mSm",
        "outputId": "9a3886db-36a4-413a-e6f7-e433a217a804"
      },
      "outputs": [
        {
          "data": {
            "text/plain": [
              "2"
            ]
          },
          "execution_count": 99,
          "metadata": {},
          "output_type": "execute_result"
        }
      ],
      "source": [
        "arr2.min() # gives minimum values of element"
      ]
    },
    {
      "cell_type": "code",
      "execution_count": null,
      "metadata": {
        "colab": {
          "base_uri": "https://localhost:8080/"
        },
        "id": "I-55vv2i2paS",
        "outputId": "368704c0-f31e-4e55-fcda-f1c3561c6ed3"
      },
      "outputs": [
        {
          "data": {
            "text/plain": [
              "12"
            ]
          },
          "execution_count": 100,
          "metadata": {},
          "output_type": "execute_result"
        }
      ],
      "source": [
        "arr2.argmax() # gives index location of maximum value\n"
      ]
    },
    {
      "cell_type": "code",
      "execution_count": null,
      "metadata": {
        "colab": {
          "base_uri": "https://localhost:8080/"
        },
        "id": "0hzt20BNx9DV",
        "outputId": "a24bba60-d6f6-4621-d64c-063de546317e"
      },
      "outputs": [
        {
          "data": {
            "text/plain": [
              "18"
            ]
          },
          "execution_count": 101,
          "metadata": {},
          "output_type": "execute_result"
        }
      ],
      "source": [
        "arr2.argmin() # gives index location of minimum value"
      ]
    },
    {
      "cell_type": "markdown",
      "metadata": {
        "id": "OLabPBY-x9Dg"
      },
      "source": [
        "# Happy Learning!"
      ]
    }
  ],
  "metadata": {
    "colab": {
      "collapsed_sections": [
        "6xCoih_Nx9C5",
        "QDe4ZTxsx9DU"
      ],
      "provenance": [],
      "include_colab_link": true
    },
    "kernelspec": {
      "display_name": "Python 3 (ipykernel)",
      "language": "python",
      "name": "python3"
    },
    "language_info": {
      "codemirror_mode": {
        "name": "ipython",
        "version": 3
      },
      "file_extension": ".py",
      "mimetype": "text/x-python",
      "name": "python",
      "nbconvert_exporter": "python",
      "pygments_lexer": "ipython3",
      "version": "3.11.5"
    }
  },
  "nbformat": 4,
  "nbformat_minor": 0
}